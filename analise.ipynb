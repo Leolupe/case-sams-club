{
 "cells": [
  {
   "cell_type": "markdown",
   "metadata": {},
   "source": [
    "# Parte 1 – Analytics:\n",
    "Utilize a base de dados fornecida e usando Python, faça os cruzamentos e tratativas necessárias\n",
    "para ajudar o time comercial a entender a cesta de compra dos nossos sócios e a possibilidade\n",
    "de criar combos promocionais.\n",
    "\n",
    "O time comercial precisa saber quais foram os 10 itens de maior relevância no período e os top\n",
    "15 itens que acompanham cada um deles.\n",
    "\n",
    "Salve o resultado como você achar melhor e crie um relatório One Page (preferencialmente no\n",
    "Looker Studio ou Tableau) que tenha a possibilidade de cada comprador visualizar seu\n",
    "departamento e o gerente consiga ter uma visão macro do período.\n",
    "\n",
    "O que deverá ser enviado:\n",
    "\n",
    "- Breve resumo do raciocínio utilizado\n",
    "- Arquivo com código Python utilizado\n",
    "- Prints ou link do relatório"
   ]
  },
  {
   "cell_type": "markdown",
   "metadata": {},
   "source": [
    "## Entendimento de negócio\n",
    "O time comercial precisa saber quais são os itens mais relevantes, mas a relevância é bem relativa e depende muito da estratégia à ser aplicada.\n",
    "\n",
    "#### Podemos medir relevância de 3 formas:\n",
    "- **Itens mais populares (com mais tickets)**\n",
    "  - Essa métrica é interessante para identificar os itens que são comprados com frequência por um grande número de clientes diferentes.\n",
    "  \n",
    "  - Itens com uma quantidade alta de tickets distintos podem indicar produtos populares ou de alta demanda entre os clientes\n",
    "  \n",
    "  \n",
    "- **Itens com maior receita**\n",
    "  - A receita bruta total é interessante para entender o desempenho financeiro dos produtos.\n",
    "  \n",
    "  - Itens com uma alta receita bruta contribuem para a geração de receita da empresa e podem ser considerados como um item chave para o sucesso financeiro do negócio.\n",
    "  \n",
    "\n",
    "- **Itens com maior margem de lucro**\n",
    "  - A margem total é outra métrica financeira importante, pois representa a diferença entre a receita e os custos associados à venda dos produtos.\n",
    "  \n",
    "  - Itens com uma margem total alta contribuem mais para os lucros da empresa e podem ser prioritários para o time comercial, especialmente se estiverem associados a uma boa receita bruta.\n",
    "  \n",
    "Com a estratégia é criar combos promocionais a partir da relevância a seguindo a premissa que queremos aumentar o **volume de vendas** com esses combos, o mais sensato seria levar em conta então os **itens mais populares**, já que:\n",
    "\n",
    "- Itens que são comprados por uma quantidade clientes diferentes possui uma ampla base de demanda.\n",
    "\n",
    "- Ao criar combos promocionais com base nesses itens, é possível atrair uma variedade maior de clientes, aumentando as chances de sucesso da promoção.\n",
    "\n",
    "- Itens com alta quantidade de ticket distintos têm uma demanda mais generalizada e com isso têm potencial para atrair mais clientes quando incluídos em promoções."
   ]
  },
  {
   "cell_type": "code",
   "execution_count": 1,
   "metadata": {},
   "outputs": [],
   "source": [
    "# bibliotecas\n",
    "import pandas as pd"
   ]
  },
  {
   "cell_type": "code",
   "execution_count": 2,
   "metadata": {},
   "outputs": [],
   "source": [
    "# importando a base\n",
    "df = pd.read_csv('CASE_PRATICO_SAMS_CLUB.csv')"
   ]
  },
  {
   "cell_type": "code",
   "execution_count": 3,
   "metadata": {},
   "outputs": [
    {
     "data": {
      "text/html": [
       "<div>\n",
       "<style scoped>\n",
       "    .dataframe tbody tr th:only-of-type {\n",
       "        vertical-align: middle;\n",
       "    }\n",
       "\n",
       "    .dataframe tbody tr th {\n",
       "        vertical-align: top;\n",
       "    }\n",
       "\n",
       "    .dataframe thead th {\n",
       "        text-align: right;\n",
       "    }\n",
       "</style>\n",
       "<table border=\"1\" class=\"dataframe\">\n",
       "  <thead>\n",
       "    <tr style=\"text-align: right;\">\n",
       "      <th></th>\n",
       "      <th>id_clube</th>\n",
       "      <th>socio</th>\n",
       "      <th>item_id</th>\n",
       "      <th>item_unidade</th>\n",
       "      <th>receita_bruta</th>\n",
       "      <th>margem</th>\n",
       "    </tr>\n",
       "  </thead>\n",
       "  <tbody>\n",
       "    <tr>\n",
       "      <th>count</th>\n",
       "      <td>878596.000000</td>\n",
       "      <td>8.785960e+05</td>\n",
       "      <td>8.785960e+05</td>\n",
       "      <td>878596.000000</td>\n",
       "      <td>878596.000000</td>\n",
       "      <td>878596.000000</td>\n",
       "    </tr>\n",
       "    <tr>\n",
       "      <th>mean</th>\n",
       "      <td>6308.761837</td>\n",
       "      <td>4.575835e+16</td>\n",
       "      <td>1.232072e+06</td>\n",
       "      <td>1.477983</td>\n",
       "      <td>32.646677</td>\n",
       "      <td>5.576704</td>\n",
       "    </tr>\n",
       "    <tr>\n",
       "      <th>std</th>\n",
       "      <td>665.253679</td>\n",
       "      <td>6.793028e+12</td>\n",
       "      <td>1.298008e+04</td>\n",
       "      <td>3.228101</td>\n",
       "      <td>110.421399</td>\n",
       "      <td>26.760466</td>\n",
       "    </tr>\n",
       "    <tr>\n",
       "      <th>min</th>\n",
       "      <td>5235.000000</td>\n",
       "      <td>4.574401e+16</td>\n",
       "      <td>1.215153e+06</td>\n",
       "      <td>-425.000000</td>\n",
       "      <td>-16781.880000</td>\n",
       "      <td>-9445.030000</td>\n",
       "    </tr>\n",
       "    <tr>\n",
       "      <th>25%</th>\n",
       "      <td>6059.000000</td>\n",
       "      <td>4.575210e+16</td>\n",
       "      <td>1.222549e+06</td>\n",
       "      <td>1.000000</td>\n",
       "      <td>11.360000</td>\n",
       "      <td>2.230000</td>\n",
       "    </tr>\n",
       "    <tr>\n",
       "      <th>50%</th>\n",
       "      <td>6169.000000</td>\n",
       "      <td>4.575222e+16</td>\n",
       "      <td>1.230923e+06</td>\n",
       "      <td>1.000000</td>\n",
       "      <td>19.270000</td>\n",
       "      <td>4.110000</td>\n",
       "    </tr>\n",
       "    <tr>\n",
       "      <th>75%</th>\n",
       "      <td>6183.000000</td>\n",
       "      <td>4.576510e+16</td>\n",
       "      <td>1.236365e+06</td>\n",
       "      <td>1.000000</td>\n",
       "      <td>33.360000</td>\n",
       "      <td>7.470000</td>\n",
       "    </tr>\n",
       "    <tr>\n",
       "      <th>max</th>\n",
       "      <td>7780.000000</td>\n",
       "      <td>4.576610e+16</td>\n",
       "      <td>1.268287e+06</td>\n",
       "      <td>1092.000000</td>\n",
       "      <td>34006.250000</td>\n",
       "      <td>6291.290000</td>\n",
       "    </tr>\n",
       "  </tbody>\n",
       "</table>\n",
       "</div>"
      ],
      "text/plain": [
       "            id_clube         socio       item_id   item_unidade  \\\n",
       "count  878596.000000  8.785960e+05  8.785960e+05  878596.000000   \n",
       "mean     6308.761837  4.575835e+16  1.232072e+06       1.477983   \n",
       "std       665.253679  6.793028e+12  1.298008e+04       3.228101   \n",
       "min      5235.000000  4.574401e+16  1.215153e+06    -425.000000   \n",
       "25%      6059.000000  4.575210e+16  1.222549e+06       1.000000   \n",
       "50%      6169.000000  4.575222e+16  1.230923e+06       1.000000   \n",
       "75%      6183.000000  4.576510e+16  1.236365e+06       1.000000   \n",
       "max      7780.000000  4.576610e+16  1.268287e+06    1092.000000   \n",
       "\n",
       "       receita_bruta         margem  \n",
       "count  878596.000000  878596.000000  \n",
       "mean       32.646677       5.576704  \n",
       "std       110.421399      26.760466  \n",
       "min    -16781.880000   -9445.030000  \n",
       "25%        11.360000       2.230000  \n",
       "50%        19.270000       4.110000  \n",
       "75%        33.360000       7.470000  \n",
       "max     34006.250000    6291.290000  "
      ]
     },
     "execution_count": 3,
     "metadata": {},
     "output_type": "execute_result"
    }
   ],
   "source": [
    "# descritivo da base\n",
    "df.describe()"
   ]
  },
  {
   "cell_type": "code",
   "execution_count": 4,
   "metadata": {},
   "outputs": [
    {
     "data": {
      "text/plain": [
       "Index(['periodo', 'id_clube', 'socio', 'canal', 'ticket', 'departamento',\n",
       "       'item_id', 'item_descricao', 'item_unidade', 'receita_bruta', 'margem'],\n",
       "      dtype='object')"
      ]
     },
     "execution_count": 4,
     "metadata": {},
     "output_type": "execute_result"
    }
   ],
   "source": [
    "# colunas\n",
    "df.columns"
   ]
  },
  {
   "cell_type": "code",
   "execution_count": 5,
   "metadata": {},
   "outputs": [
    {
     "data": {
      "text/html": [
       "<div>\n",
       "<style scoped>\n",
       "    .dataframe tbody tr th:only-of-type {\n",
       "        vertical-align: middle;\n",
       "    }\n",
       "\n",
       "    .dataframe tbody tr th {\n",
       "        vertical-align: top;\n",
       "    }\n",
       "\n",
       "    .dataframe thead th {\n",
       "        text-align: right;\n",
       "    }\n",
       "</style>\n",
       "<table border=\"1\" class=\"dataframe\">\n",
       "  <thead>\n",
       "    <tr style=\"text-align: right;\">\n",
       "      <th></th>\n",
       "      <th>periodo</th>\n",
       "      <th>id_clube</th>\n",
       "      <th>socio</th>\n",
       "      <th>canal</th>\n",
       "      <th>ticket</th>\n",
       "      <th>departamento</th>\n",
       "      <th>item_id</th>\n",
       "      <th>item_descricao</th>\n",
       "      <th>item_unidade</th>\n",
       "      <th>receita_bruta</th>\n",
       "      <th>margem</th>\n",
       "    </tr>\n",
       "  </thead>\n",
       "  <tbody>\n",
       "    <tr>\n",
       "      <th>0</th>\n",
       "      <td>2022-01-10</td>\n",
       "      <td>5235</td>\n",
       "      <td>45765100809381908</td>\n",
       "      <td>PISO</td>\n",
       "      <td>4576510080938190820220110</td>\n",
       "      <td>BAZAR E TÊXTIL</td>\n",
       "      <td>1259475</td>\n",
       "      <td>CALCAO</td>\n",
       "      <td>2</td>\n",
       "      <td>81.17</td>\n",
       "      <td>22.43</td>\n",
       "    </tr>\n",
       "    <tr>\n",
       "      <th>1</th>\n",
       "      <td>2022-01-10</td>\n",
       "      <td>5235</td>\n",
       "      <td>45766100903265726</td>\n",
       "      <td>PISO</td>\n",
       "      <td>4576610090326572620220110</td>\n",
       "      <td>BAZAR E TÊXTIL</td>\n",
       "      <td>1259475</td>\n",
       "      <td>CALCAO</td>\n",
       "      <td>1</td>\n",
       "      <td>41.27</td>\n",
       "      <td>11.90</td>\n",
       "    </tr>\n",
       "    <tr>\n",
       "      <th>2</th>\n",
       "      <td>2022-01-10</td>\n",
       "      <td>5235</td>\n",
       "      <td>45765100815078019</td>\n",
       "      <td>PISO</td>\n",
       "      <td>4576510081507801920220110</td>\n",
       "      <td>BAZAR E TÊXTIL</td>\n",
       "      <td>1225017</td>\n",
       "      <td>CHAPEU PRAIA</td>\n",
       "      <td>1</td>\n",
       "      <td>51.27</td>\n",
       "      <td>11.10</td>\n",
       "    </tr>\n",
       "    <tr>\n",
       "      <th>3</th>\n",
       "      <td>2022-01-10</td>\n",
       "      <td>5235</td>\n",
       "      <td>45766100904345030</td>\n",
       "      <td>PISO</td>\n",
       "      <td>4576610090434503020220110</td>\n",
       "      <td>BAZAR E TÊXTIL</td>\n",
       "      <td>1216504</td>\n",
       "      <td>BANCO DOBRAVEL</td>\n",
       "      <td>1</td>\n",
       "      <td>81.34</td>\n",
       "      <td>22.93</td>\n",
       "    </tr>\n",
       "    <tr>\n",
       "      <th>4</th>\n",
       "      <td>2022-01-10</td>\n",
       "      <td>5235</td>\n",
       "      <td>45766100903286284</td>\n",
       "      <td>PISO</td>\n",
       "      <td>4576610090328628420220110</td>\n",
       "      <td>BAZAR E TÊXTIL</td>\n",
       "      <td>1259473</td>\n",
       "      <td>BERMUDA MOLETOM</td>\n",
       "      <td>2</td>\n",
       "      <td>201.17</td>\n",
       "      <td>46.37</td>\n",
       "    </tr>\n",
       "  </tbody>\n",
       "</table>\n",
       "</div>"
      ],
      "text/plain": [
       "      periodo  id_clube              socio canal                     ticket  \\\n",
       "0  2022-01-10      5235  45765100809381908  PISO  4576510080938190820220110   \n",
       "1  2022-01-10      5235  45766100903265726  PISO  4576610090326572620220110   \n",
       "2  2022-01-10      5235  45765100815078019  PISO  4576510081507801920220110   \n",
       "3  2022-01-10      5235  45766100904345030  PISO  4576610090434503020220110   \n",
       "4  2022-01-10      5235  45766100903286284  PISO  4576610090328628420220110   \n",
       "\n",
       "     departamento  item_id   item_descricao  item_unidade  receita_bruta  \\\n",
       "0  BAZAR E TÊXTIL  1259475           CALCAO             2          81.17   \n",
       "1  BAZAR E TÊXTIL  1259475           CALCAO             1          41.27   \n",
       "2  BAZAR E TÊXTIL  1225017     CHAPEU PRAIA             1          51.27   \n",
       "3  BAZAR E TÊXTIL  1216504   BANCO DOBRAVEL             1          81.34   \n",
       "4  BAZAR E TÊXTIL  1259473  BERMUDA MOLETOM             2         201.17   \n",
       "\n",
       "   margem  \n",
       "0   22.43  \n",
       "1   11.90  \n",
       "2   11.10  \n",
       "3   22.93  \n",
       "4   46.37  "
      ]
     },
     "execution_count": 5,
     "metadata": {},
     "output_type": "execute_result"
    }
   ],
   "source": [
    "# amostra\n",
    "df.head()"
   ]
  },
  {
   "cell_type": "code",
   "execution_count": 6,
   "metadata": {},
   "outputs": [
    {
     "data": {
      "text/html": [
       "<div>\n",
       "<style scoped>\n",
       "    .dataframe tbody tr th:only-of-type {\n",
       "        vertical-align: middle;\n",
       "    }\n",
       "\n",
       "    .dataframe tbody tr th {\n",
       "        vertical-align: top;\n",
       "    }\n",
       "\n",
       "    .dataframe thead th {\n",
       "        text-align: right;\n",
       "    }\n",
       "</style>\n",
       "<table border=\"1\" class=\"dataframe\">\n",
       "  <thead>\n",
       "    <tr style=\"text-align: right;\">\n",
       "      <th></th>\n",
       "      <th>periodo</th>\n",
       "      <th>id_clube</th>\n",
       "      <th>socio</th>\n",
       "      <th>canal</th>\n",
       "      <th>ticket</th>\n",
       "      <th>departamento</th>\n",
       "      <th>item_id</th>\n",
       "      <th>item_descricao</th>\n",
       "      <th>item_unidade</th>\n",
       "      <th>receita_bruta</th>\n",
       "      <th>margem</th>\n",
       "    </tr>\n",
       "  </thead>\n",
       "  <tbody>\n",
       "  </tbody>\n",
       "</table>\n",
       "</div>"
      ],
      "text/plain": [
       "Empty DataFrame\n",
       "Columns: [periodo, id_clube, socio, canal, ticket, departamento, item_id, item_descricao, item_unidade, receita_bruta, margem]\n",
       "Index: []"
      ]
     },
     "execution_count": 6,
     "metadata": {},
     "output_type": "execute_result"
    }
   ],
   "source": [
    "# verificando registros vazios\n",
    "registros_vazios = df[df.isna().any(axis=1)]\n",
    "registros_vazios"
   ]
  },
  {
   "cell_type": "markdown",
   "metadata": {},
   "source": [
    "## Itens mais populares\n",
    "\n",
    "Quais itens possuem mais ticket"
   ]
  },
  {
   "cell_type": "code",
   "execution_count": 7,
   "metadata": {},
   "outputs": [
    {
     "data": {
      "text/plain": [
       "item_descricao\n",
       "SACOLA PLASTICA MM BRANCA              13300\n",
       "PAPEL TOALHA KITCHEN JUMB FD C360FL     5864\n",
       "MM LAVA ROUPAS 5LTS ULTIMATE CLEAN      4285\n",
       "PH NEVE FT 20M L32P28UN                 3859\n",
       "PAO FRANCES MEMBERS MARK                3822\n",
       "PH PERSONAL VIP FD 40 ROLOSX30M         3664\n",
       "BANANA PRATA KG                         3601\n",
       "REQUEIJ CREMOSO 500G MEMBERS MARK       3206\n",
       "OMO LAVA ROUPAS LAVAG PERFEITA 5LT      3034\n",
       "SACOLA PLASTICA MM CINZA                2981\n",
       "Name: ticket, dtype: int64"
      ]
     },
     "execution_count": 7,
     "metadata": {},
     "output_type": "execute_result"
    }
   ],
   "source": [
    "top_10_produtos_tickets = df.groupby('item_descricao')['ticket'].nunique().nlargest(10)\n",
    "top_10_produtos_tickets"
   ]
  },
  {
   "cell_type": "markdown",
   "metadata": {},
   "source": [
    "## Itens que geraram mais receita"
   ]
  },
  {
   "cell_type": "code",
   "execution_count": 8,
   "metadata": {},
   "outputs": [
    {
     "data": {
      "text/plain": [
       "item_descricao\n",
       "BANANA PRATA KG                        1295\n",
       "FILE MIGN S CORDAO KG                   998\n",
       "BANANA NANICA KG                        928\n",
       "MAMAO PAPAYA KG                         850\n",
       "MAMAO FORMOSA KG                        727\n",
       "ABACATE KG                              664\n",
       "FILE DE PEITO FRANG MEMBERS MARK KG     664\n",
       "PATINHO EXTRA MOIDO MEMBERS MARK KG     644\n",
       "CONTRA FILE BOVINO RESF BOVINO KG       637\n",
       "PAO FRANCES MEMBERS MARK                633\n",
       "Name: receita_bruta, dtype: int64"
      ]
     },
     "execution_count": 8,
     "metadata": {},
     "output_type": "execute_result"
    }
   ],
   "source": [
    "\n",
    "top_10_produtos_receita = df.groupby('item_descricao')['receita_bruta'].nunique().nlargest(10)\n",
    "top_10_produtos_receita"
   ]
  },
  {
   "cell_type": "markdown",
   "metadata": {},
   "source": [
    "## Itens que geraram mais margem"
   ]
  },
  {
   "cell_type": "code",
   "execution_count": 9,
   "metadata": {},
   "outputs": [
    {
     "data": {
      "text/plain": [
       "item_descricao\n",
       "FILE MIGN S CORDAO KG                  1012\n",
       "BANANA PRATA KG                         784\n",
       "PATINHO EXTRA MOIDO MEMBERS MARK KG     633\n",
       "BANANA NANICA KG                        616\n",
       "MAMAO PAPAYA KG                         614\n",
       "FILE DE PEITO FRANG MEMBERS MARK KG     572\n",
       "CONTRA FILE BOVINO RESF BOVINO KG       550\n",
       "PAO FRANCES MEMBERS MARK                548\n",
       "MAMAO FORMOSA KG                        521\n",
       "PAO ITALIANO MEMBERS MARK               519\n",
       "Name: margem, dtype: int64"
      ]
     },
     "execution_count": 9,
     "metadata": {},
     "output_type": "execute_result"
    }
   ],
   "source": [
    "\n",
    "top_10_produtos_margem = df.groupby('item_descricao')['margem'].nunique().nlargest(10)\n",
    "top_10_produtos_margem"
   ]
  },
  {
   "cell_type": "markdown",
   "metadata": {},
   "source": [
    "## Ticket médio\n",
    "\n",
    "Em cada compra/ticket, quando produtos em média são comprados"
   ]
  },
  {
   "cell_type": "code",
   "execution_count": 10,
   "metadata": {},
   "outputs": [
    {
     "data": {
      "text/plain": [
       "11.65586775982382"
      ]
     },
     "execution_count": 10,
     "metadata": {},
     "output_type": "execute_result"
    }
   ],
   "source": [
    "df['ticket'].count() / df['ticket'].nunique()"
   ]
  },
  {
   "cell_type": "markdown",
   "metadata": {},
   "source": [
    "## Combos promocionais\n",
    "\n",
    "Dentre os itens populares encontrados acima, quais são os produtos mais relacionados"
   ]
  },
  {
   "cell_type": "code",
   "execution_count": 11,
   "metadata": {},
   "outputs": [
    {
     "data": {
      "text/html": [
       "<div>\n",
       "<style scoped>\n",
       "    .dataframe tbody tr th:only-of-type {\n",
       "        vertical-align: middle;\n",
       "    }\n",
       "\n",
       "    .dataframe tbody tr th {\n",
       "        vertical-align: top;\n",
       "    }\n",
       "\n",
       "    .dataframe thead th {\n",
       "        text-align: right;\n",
       "    }\n",
       "</style>\n",
       "<table border=\"1\" class=\"dataframe\">\n",
       "  <thead>\n",
       "    <tr style=\"text-align: right;\">\n",
       "      <th></th>\n",
       "      <th>produto_referencia</th>\n",
       "      <th>produto_relacionado</th>\n",
       "    </tr>\n",
       "  </thead>\n",
       "  <tbody>\n",
       "    <tr>\n",
       "      <th>0</th>\n",
       "      <td>SACOLA PLASTICA MM BRANCA</td>\n",
       "      <td>PAPEL TOALHA KITCHEN JUMB FD C360FL</td>\n",
       "    </tr>\n",
       "    <tr>\n",
       "      <th>1</th>\n",
       "      <td>SACOLA PLASTICA MM BRANCA</td>\n",
       "      <td>PAO FRANCES MEMBERS MARK</td>\n",
       "    </tr>\n",
       "    <tr>\n",
       "      <th>2</th>\n",
       "      <td>SACOLA PLASTICA MM BRANCA</td>\n",
       "      <td>BANANA PRATA KG</td>\n",
       "    </tr>\n",
       "    <tr>\n",
       "      <th>3</th>\n",
       "      <td>SACOLA PLASTICA MM BRANCA</td>\n",
       "      <td>REQUEIJ CREMOSO 500G MEMBERS MARK</td>\n",
       "    </tr>\n",
       "    <tr>\n",
       "      <th>4</th>\n",
       "      <td>SACOLA PLASTICA MM BRANCA</td>\n",
       "      <td>MM LAVA ROUPAS 5LTS ULTIMATE CLEAN</td>\n",
       "    </tr>\n",
       "    <tr>\n",
       "      <th>...</th>\n",
       "      <td>...</td>\n",
       "      <td>...</td>\n",
       "    </tr>\n",
       "    <tr>\n",
       "      <th>145</th>\n",
       "      <td>SACOLA PLASTICA MM CINZA</td>\n",
       "      <td>REQUEIJAO TRADIC CATUPIRY 500G</td>\n",
       "    </tr>\n",
       "    <tr>\n",
       "      <th>146</th>\n",
       "      <td>SACOLA PLASTICA MM CINZA</td>\n",
       "      <td>MANTEIGA AVIACAO COM SAL POTE 500G</td>\n",
       "    </tr>\n",
       "    <tr>\n",
       "      <th>147</th>\n",
       "      <td>SACOLA PLASTICA MM CINZA</td>\n",
       "      <td>PAO FRANCES MEMBERS MARK</td>\n",
       "    </tr>\n",
       "    <tr>\n",
       "      <th>148</th>\n",
       "      <td>SACOLA PLASTICA MM CINZA</td>\n",
       "      <td>CENOURA KG</td>\n",
       "    </tr>\n",
       "    <tr>\n",
       "      <th>149</th>\n",
       "      <td>SACOLA PLASTICA MM CINZA</td>\n",
       "      <td>BATATA PACOTE 1 KG</td>\n",
       "    </tr>\n",
       "  </tbody>\n",
       "</table>\n",
       "<p>150 rows × 2 columns</p>\n",
       "</div>"
      ],
      "text/plain": [
       "            produto_referencia                  produto_relacionado\n",
       "0    SACOLA PLASTICA MM BRANCA  PAPEL TOALHA KITCHEN JUMB FD C360FL\n",
       "1    SACOLA PLASTICA MM BRANCA             PAO FRANCES MEMBERS MARK\n",
       "2    SACOLA PLASTICA MM BRANCA                      BANANA PRATA KG\n",
       "3    SACOLA PLASTICA MM BRANCA    REQUEIJ CREMOSO 500G MEMBERS MARK\n",
       "4    SACOLA PLASTICA MM BRANCA   MM LAVA ROUPAS 5LTS ULTIMATE CLEAN\n",
       "..                         ...                                  ...\n",
       "145   SACOLA PLASTICA MM CINZA       REQUEIJAO TRADIC CATUPIRY 500G\n",
       "146   SACOLA PLASTICA MM CINZA   MANTEIGA AVIACAO COM SAL POTE 500G\n",
       "147   SACOLA PLASTICA MM CINZA             PAO FRANCES MEMBERS MARK\n",
       "148   SACOLA PLASTICA MM CINZA                           CENOURA KG\n",
       "149   SACOLA PLASTICA MM CINZA                   BATATA PACOTE 1 KG\n",
       "\n",
       "[150 rows x 2 columns]"
      ]
     },
     "execution_count": 11,
     "metadata": {},
     "output_type": "execute_result"
    }
   ],
   "source": [
    "top_10_produtos = df.groupby('item_descricao')['ticket'].nunique().nlargest(10).index.tolist()\n",
    "\n",
    "resultados = []\n",
    "\n",
    "for produto_referencia in top_10_produtos:\n",
    "    tickets_produto_referencia = df[df['item_descricao'] == produto_referencia]['ticket'].unique()\n",
    "\n",
    "    dados_combo = df[df['ticket'].isin(tickets_produto_referencia)]\n",
    "\n",
    "    relacionados = dados_combo[dados_combo['item_descricao'] != produto_referencia].groupby('item_descricao')['ticket'].nunique().nlargest(15).index.tolist()\n",
    "\n",
    "    for item in relacionados:\n",
    "        resultados.append({'produto_referencia': produto_referencia, 'produto_relacionado': item})\n",
    "\n",
    "combos = pd.DataFrame(resultados)\n",
    "combos.to_csv('resultados_combos.csv', index=False)\n",
    "combos\n"
   ]
  },
  {
   "cell_type": "markdown",
   "metadata": {},
   "source": [
    "### Racional\n",
    "\n",
    "- Encontrar o top 10 mais relevantes\n",
    "- Para cada um desses itens, fazer as iterações:\n",
    "  - Filtrar tickets onde hajam o item em questão, assim, tenho uma lista de tickets\n",
    "  - Tendo essa lista de ticket onde o produto referência está, filtrar o dataframe selecionando apenas esses tickets\n",
    "  - A partir do df filtrado, extrair o 10 top para o produto referência"
   ]
  },
  {
   "cell_type": "markdown",
   "metadata": {},
   "source": [
    "# Parte 2 – Data Science:\n",
    "O problema anterior limita-se a achar combos com apenas 2 itens. A partir da sua solução da\n",
    "Parte 1, desenvolva uma nova solução com alguma técnica de Machine Learning que permita\n",
    "achar combos maiores (p.ex. com 3 itens).\n",
    "\n",
    "O que deverá ser enviado:\n",
    "- Explicação sucinta da técnica utilizada\n",
    "- Arquivo com código Python utilizado\n",
    "- Print dos resultados"
   ]
  },
  {
   "cell_type": "markdown",
   "metadata": {},
   "source": [
    "## Entendimento da solução\n",
    "- Será usado o algoritmo Apriori para entender a associação entre os itens;\n",
    "- Se fosse o caso de analisar quais produtos colocar perto na mesma prateleira de uma loja por exemplo, poderíamos usar a combinação de todos os produtos para encontrar os combos. Mas como o objetivo é identificar combos promocionais para impulsionar vendas (já que estamos falando do time comercial), segmentaremos essa análise pelo departamento. Além de que, temos vendas em lojas físicas e ecommerce.\n"
   ]
  },
  {
   "cell_type": "code",
   "execution_count": 35,
   "metadata": {},
   "outputs": [
    {
     "name": "stdout",
     "output_type": "stream",
     "text": [
      "departamento\n",
      "BAZAR E TÊXTIL       1650\n",
      "BEBIDAS              1697\n",
      "COMMODITIES           919\n",
      "ELETRO                408\n",
      "HIGIENE E LIMPEZA     869\n",
      "MERCEARIA            1526\n",
      "PERECÍVEIS           3591\n",
      "SERVICO DIGITAL         1\n",
      "Name: item_id, dtype: int64\n"
     ]
    }
   ],
   "source": [
    "produtos_por_departamento = df.groupby('departamento')['item_id'].nunique()\n",
    "\n",
    "# Exibir o resultado\n",
    "print(produtos_por_departamento)"
   ]
  },
  {
   "cell_type": "code",
   "execution_count": 54,
   "metadata": {},
   "outputs": [
    {
     "name": "stderr",
     "output_type": "stream",
     "text": [
      "'conda' n�o � reconhecido como um comando interno\n",
      "ou externo, um programa oper�vel ou um arquivo em lotes.\n"
     ]
    }
   ],
   "source": [
    "!conda intall pygpgrowth"
   ]
  },
  {
   "cell_type": "code",
   "execution_count": 51,
   "metadata": {},
   "outputs": [
    {
     "name": "stderr",
     "output_type": "stream",
     "text": [
      "'pip' n�o � reconhecido como um comando interno\n",
      "ou externo, um programa oper�vel ou um arquivo em lotes.\n"
     ]
    },
    {
     "ename": "ModuleNotFoundError",
     "evalue": "No module named 'pyfpgrowth'",
     "output_type": "error",
     "traceback": [
      "\u001b[1;31m---------------------------------------------------------------------------\u001b[0m",
      "\u001b[1;31mModuleNotFoundError\u001b[0m                       Traceback (most recent call last)",
      "Cell \u001b[1;32mIn[51], line 3\u001b[0m\n\u001b[0;32m      1\u001b[0m get_ipython()\u001b[38;5;241m.\u001b[39msystem(\u001b[38;5;124m'\u001b[39m\u001b[38;5;124mpip install pyfpgrowth\u001b[39m\u001b[38;5;124m'\u001b[39m)\n\u001b[0;32m      2\u001b[0m \u001b[38;5;28;01mimport\u001b[39;00m \u001b[38;5;21;01mpandas\u001b[39;00m \u001b[38;5;28;01mas\u001b[39;00m \u001b[38;5;21;01mpd\u001b[39;00m\n\u001b[1;32m----> 3\u001b[0m \u001b[38;5;28;01mimport\u001b[39;00m \u001b[38;5;21;01mpyfpgrowth\u001b[39;00m\n\u001b[0;32m      5\u001b[0m \u001b[38;5;66;03m# Supondo que 'item_descricao' seja uma coluna categórica que você deseja usar como itens para a mineração de regras de associação\u001b[39;00m\n\u001b[0;32m      6\u001b[0m transactions \u001b[38;5;241m=\u001b[39m df_filtro\u001b[38;5;241m.\u001b[39mgroupby(\u001b[38;5;124m'\u001b[39m\u001b[38;5;124mticket\u001b[39m\u001b[38;5;124m'\u001b[39m)[\u001b[38;5;124m'\u001b[39m\u001b[38;5;124mitem_descricao\u001b[39m\u001b[38;5;124m'\u001b[39m]\u001b[38;5;241m.\u001b[39mapply(\u001b[38;5;28mlist\u001b[39m)\u001b[38;5;241m.\u001b[39mtolist()\n",
      "\u001b[1;31mModuleNotFoundError\u001b[0m: No module named 'pyfpgrowth'"
     ]
    }
   ],
   "source": [
    "import pandas as pd\n",
    "import pyfpgrowth\n",
    "\n",
    "# Supondo que 'item_descricao' seja uma coluna categórica que você deseja usar como itens para a mineração de regras de associação\n",
    "transactions = df_filtro.groupby('ticket')['item_descricao'].apply(list).tolist()\n",
    "\n",
    "# Definir o suporte mínimo desejado\n",
    "min_support = 0.01  # Ajuste conforme necessário\n",
    "\n",
    "# Executar o algoritmo FP-Growth para encontrar conjuntos frequentes\n",
    "patterns = pyfpgrowth.find_frequent_patterns(transactions, int(len(transactions) * min_support))\n",
    "\n",
    "# Gerar regras de associação a partir dos conjuntos frequentes\n",
    "rules = pyfpgrowth.generate_association_rules(patterns, min_confidence=0.5)  # Ajuste a confiança mínima conforme necessário\n",
    "\n",
    "# Visualizar as regras de associação\n",
    "print(rules)\n"
   ]
  }
 ],
 "metadata": {
  "kernelspec": {
   "display_name": "Python 3 (ipykernel)",
   "language": "python",
   "name": "python3"
  },
  "language_info": {
   "codemirror_mode": {
    "name": "ipython",
    "version": 3
   },
   "file_extension": ".py",
   "mimetype": "text/x-python",
   "name": "python",
   "nbconvert_exporter": "python",
   "pygments_lexer": "ipython3",
   "version": "3.11.5"
  }
 },
 "nbformat": 4,
 "nbformat_minor": 2
}
