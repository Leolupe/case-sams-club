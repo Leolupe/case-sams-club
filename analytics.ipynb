{
 "cells": [
  {
   "cell_type": "code",
   "execution_count": 73,
   "metadata": {},
   "outputs": [],
   "source": [
    "# bibliotecas\n",
    "import pandas as pd"
   ]
  },
  {
   "cell_type": "code",
   "execution_count": 74,
   "metadata": {},
   "outputs": [],
   "source": [
    "# importando a base\n",
    "df = pd.read_csv('CASE_PRATICO_SAMS_CLUB.csv')\n",
    "\n"
   ]
  },
  {
   "cell_type": "code",
   "execution_count": 75,
   "metadata": {},
   "outputs": [
    {
     "data": {
      "text/html": [
       "<div>\n",
       "<style scoped>\n",
       "    .dataframe tbody tr th:only-of-type {\n",
       "        vertical-align: middle;\n",
       "    }\n",
       "\n",
       "    .dataframe tbody tr th {\n",
       "        vertical-align: top;\n",
       "    }\n",
       "\n",
       "    .dataframe thead th {\n",
       "        text-align: right;\n",
       "    }\n",
       "</style>\n",
       "<table border=\"1\" class=\"dataframe\">\n",
       "  <thead>\n",
       "    <tr style=\"text-align: right;\">\n",
       "      <th></th>\n",
       "      <th>id_clube</th>\n",
       "      <th>socio</th>\n",
       "      <th>item_id</th>\n",
       "      <th>item_unidade</th>\n",
       "      <th>receita_bruta</th>\n",
       "      <th>margem</th>\n",
       "    </tr>\n",
       "  </thead>\n",
       "  <tbody>\n",
       "    <tr>\n",
       "      <th>count</th>\n",
       "      <td>878596.000000</td>\n",
       "      <td>8.785960e+05</td>\n",
       "      <td>8.785960e+05</td>\n",
       "      <td>878596.000000</td>\n",
       "      <td>878596.000000</td>\n",
       "      <td>878596.000000</td>\n",
       "    </tr>\n",
       "    <tr>\n",
       "      <th>mean</th>\n",
       "      <td>6308.761837</td>\n",
       "      <td>4.575835e+16</td>\n",
       "      <td>1.232072e+06</td>\n",
       "      <td>1.477983</td>\n",
       "      <td>32.646677</td>\n",
       "      <td>5.576704</td>\n",
       "    </tr>\n",
       "    <tr>\n",
       "      <th>std</th>\n",
       "      <td>665.253679</td>\n",
       "      <td>6.793028e+12</td>\n",
       "      <td>1.298008e+04</td>\n",
       "      <td>3.228101</td>\n",
       "      <td>110.421399</td>\n",
       "      <td>26.760466</td>\n",
       "    </tr>\n",
       "    <tr>\n",
       "      <th>min</th>\n",
       "      <td>5235.000000</td>\n",
       "      <td>4.574401e+16</td>\n",
       "      <td>1.215153e+06</td>\n",
       "      <td>-425.000000</td>\n",
       "      <td>-16781.880000</td>\n",
       "      <td>-9445.030000</td>\n",
       "    </tr>\n",
       "    <tr>\n",
       "      <th>25%</th>\n",
       "      <td>6059.000000</td>\n",
       "      <td>4.575210e+16</td>\n",
       "      <td>1.222549e+06</td>\n",
       "      <td>1.000000</td>\n",
       "      <td>11.360000</td>\n",
       "      <td>2.230000</td>\n",
       "    </tr>\n",
       "    <tr>\n",
       "      <th>50%</th>\n",
       "      <td>6169.000000</td>\n",
       "      <td>4.575222e+16</td>\n",
       "      <td>1.230923e+06</td>\n",
       "      <td>1.000000</td>\n",
       "      <td>19.270000</td>\n",
       "      <td>4.110000</td>\n",
       "    </tr>\n",
       "    <tr>\n",
       "      <th>75%</th>\n",
       "      <td>6183.000000</td>\n",
       "      <td>4.576510e+16</td>\n",
       "      <td>1.236365e+06</td>\n",
       "      <td>1.000000</td>\n",
       "      <td>33.360000</td>\n",
       "      <td>7.470000</td>\n",
       "    </tr>\n",
       "    <tr>\n",
       "      <th>max</th>\n",
       "      <td>7780.000000</td>\n",
       "      <td>4.576610e+16</td>\n",
       "      <td>1.268287e+06</td>\n",
       "      <td>1092.000000</td>\n",
       "      <td>34006.250000</td>\n",
       "      <td>6291.290000</td>\n",
       "    </tr>\n",
       "  </tbody>\n",
       "</table>\n",
       "</div>"
      ],
      "text/plain": [
       "            id_clube         socio       item_id   item_unidade  \\\n",
       "count  878596.000000  8.785960e+05  8.785960e+05  878596.000000   \n",
       "mean     6308.761837  4.575835e+16  1.232072e+06       1.477983   \n",
       "std       665.253679  6.793028e+12  1.298008e+04       3.228101   \n",
       "min      5235.000000  4.574401e+16  1.215153e+06    -425.000000   \n",
       "25%      6059.000000  4.575210e+16  1.222549e+06       1.000000   \n",
       "50%      6169.000000  4.575222e+16  1.230923e+06       1.000000   \n",
       "75%      6183.000000  4.576510e+16  1.236365e+06       1.000000   \n",
       "max      7780.000000  4.576610e+16  1.268287e+06    1092.000000   \n",
       "\n",
       "       receita_bruta         margem  \n",
       "count  878596.000000  878596.000000  \n",
       "mean       32.646677       5.576704  \n",
       "std       110.421399      26.760466  \n",
       "min    -16781.880000   -9445.030000  \n",
       "25%        11.360000       2.230000  \n",
       "50%        19.270000       4.110000  \n",
       "75%        33.360000       7.470000  \n",
       "max     34006.250000    6291.290000  "
      ]
     },
     "execution_count": 75,
     "metadata": {},
     "output_type": "execute_result"
    }
   ],
   "source": [
    "# descritivo da base\n",
    "df.describe()"
   ]
  },
  {
   "cell_type": "code",
   "execution_count": 76,
   "metadata": {},
   "outputs": [
    {
     "data": {
      "text/plain": [
       "Index(['periodo', 'id_clube', 'socio', 'canal', 'ticket', 'departamento',\n",
       "       'item_id', 'item_descricao', 'item_unidade', 'receita_bruta', 'margem'],\n",
       "      dtype='object')"
      ]
     },
     "execution_count": 76,
     "metadata": {},
     "output_type": "execute_result"
    }
   ],
   "source": [
    "# colunas\n",
    "df.columns"
   ]
  },
  {
   "cell_type": "code",
   "execution_count": 125,
   "metadata": {},
   "outputs": [
    {
     "data": {
      "text/plain": [
       "75337"
      ]
     },
     "execution_count": 125,
     "metadata": {},
     "output_type": "execute_result"
    }
   ],
   "source": [
    "df['ticket'].nunique()"
   ]
  },
  {
   "cell_type": "code",
   "execution_count": 77,
   "metadata": {},
   "outputs": [
    {
     "data": {
      "text/html": [
       "<div>\n",
       "<style scoped>\n",
       "    .dataframe tbody tr th:only-of-type {\n",
       "        vertical-align: middle;\n",
       "    }\n",
       "\n",
       "    .dataframe tbody tr th {\n",
       "        vertical-align: top;\n",
       "    }\n",
       "\n",
       "    .dataframe thead th {\n",
       "        text-align: right;\n",
       "    }\n",
       "</style>\n",
       "<table border=\"1\" class=\"dataframe\">\n",
       "  <thead>\n",
       "    <tr style=\"text-align: right;\">\n",
       "      <th></th>\n",
       "      <th>periodo</th>\n",
       "      <th>id_clube</th>\n",
       "      <th>socio</th>\n",
       "      <th>canal</th>\n",
       "      <th>ticket</th>\n",
       "      <th>departamento</th>\n",
       "      <th>item_id</th>\n",
       "      <th>item_descricao</th>\n",
       "      <th>item_unidade</th>\n",
       "      <th>receita_bruta</th>\n",
       "      <th>margem</th>\n",
       "    </tr>\n",
       "  </thead>\n",
       "  <tbody>\n",
       "    <tr>\n",
       "      <th>0</th>\n",
       "      <td>2022-01-10</td>\n",
       "      <td>5235</td>\n",
       "      <td>45765100809381908</td>\n",
       "      <td>PISO</td>\n",
       "      <td>4576510080938190820220110</td>\n",
       "      <td>BAZAR E TÊXTIL</td>\n",
       "      <td>1259475</td>\n",
       "      <td>CALCAO</td>\n",
       "      <td>2</td>\n",
       "      <td>81.17</td>\n",
       "      <td>22.43</td>\n",
       "    </tr>\n",
       "    <tr>\n",
       "      <th>1</th>\n",
       "      <td>2022-01-10</td>\n",
       "      <td>5235</td>\n",
       "      <td>45766100903265726</td>\n",
       "      <td>PISO</td>\n",
       "      <td>4576610090326572620220110</td>\n",
       "      <td>BAZAR E TÊXTIL</td>\n",
       "      <td>1259475</td>\n",
       "      <td>CALCAO</td>\n",
       "      <td>1</td>\n",
       "      <td>41.27</td>\n",
       "      <td>11.90</td>\n",
       "    </tr>\n",
       "    <tr>\n",
       "      <th>2</th>\n",
       "      <td>2022-01-10</td>\n",
       "      <td>5235</td>\n",
       "      <td>45765100815078019</td>\n",
       "      <td>PISO</td>\n",
       "      <td>4576510081507801920220110</td>\n",
       "      <td>BAZAR E TÊXTIL</td>\n",
       "      <td>1225017</td>\n",
       "      <td>CHAPEU PRAIA</td>\n",
       "      <td>1</td>\n",
       "      <td>51.27</td>\n",
       "      <td>11.10</td>\n",
       "    </tr>\n",
       "    <tr>\n",
       "      <th>3</th>\n",
       "      <td>2022-01-10</td>\n",
       "      <td>5235</td>\n",
       "      <td>45766100904345030</td>\n",
       "      <td>PISO</td>\n",
       "      <td>4576610090434503020220110</td>\n",
       "      <td>BAZAR E TÊXTIL</td>\n",
       "      <td>1216504</td>\n",
       "      <td>BANCO DOBRAVEL</td>\n",
       "      <td>1</td>\n",
       "      <td>81.34</td>\n",
       "      <td>22.93</td>\n",
       "    </tr>\n",
       "    <tr>\n",
       "      <th>4</th>\n",
       "      <td>2022-01-10</td>\n",
       "      <td>5235</td>\n",
       "      <td>45766100903286284</td>\n",
       "      <td>PISO</td>\n",
       "      <td>4576610090328628420220110</td>\n",
       "      <td>BAZAR E TÊXTIL</td>\n",
       "      <td>1259473</td>\n",
       "      <td>BERMUDA MOLETOM</td>\n",
       "      <td>2</td>\n",
       "      <td>201.17</td>\n",
       "      <td>46.37</td>\n",
       "    </tr>\n",
       "  </tbody>\n",
       "</table>\n",
       "</div>"
      ],
      "text/plain": [
       "      periodo  id_clube              socio canal                     ticket  \\\n",
       "0  2022-01-10      5235  45765100809381908  PISO  4576510080938190820220110   \n",
       "1  2022-01-10      5235  45766100903265726  PISO  4576610090326572620220110   \n",
       "2  2022-01-10      5235  45765100815078019  PISO  4576510081507801920220110   \n",
       "3  2022-01-10      5235  45766100904345030  PISO  4576610090434503020220110   \n",
       "4  2022-01-10      5235  45766100903286284  PISO  4576610090328628420220110   \n",
       "\n",
       "     departamento  item_id   item_descricao  item_unidade  receita_bruta  \\\n",
       "0  BAZAR E TÊXTIL  1259475           CALCAO             2          81.17   \n",
       "1  BAZAR E TÊXTIL  1259475           CALCAO             1          41.27   \n",
       "2  BAZAR E TÊXTIL  1225017     CHAPEU PRAIA             1          51.27   \n",
       "3  BAZAR E TÊXTIL  1216504   BANCO DOBRAVEL             1          81.34   \n",
       "4  BAZAR E TÊXTIL  1259473  BERMUDA MOLETOM             2         201.17   \n",
       "\n",
       "   margem  \n",
       "0   22.43  \n",
       "1   11.90  \n",
       "2   11.10  \n",
       "3   22.93  \n",
       "4   46.37  "
      ]
     },
     "execution_count": 77,
     "metadata": {},
     "output_type": "execute_result"
    }
   ],
   "source": [
    "# amostra\n",
    "df.head()"
   ]
  },
  {
   "cell_type": "code",
   "execution_count": 78,
   "metadata": {},
   "outputs": [
    {
     "data": {
      "text/html": [
       "<div>\n",
       "<style scoped>\n",
       "    .dataframe tbody tr th:only-of-type {\n",
       "        vertical-align: middle;\n",
       "    }\n",
       "\n",
       "    .dataframe tbody tr th {\n",
       "        vertical-align: top;\n",
       "    }\n",
       "\n",
       "    .dataframe thead th {\n",
       "        text-align: right;\n",
       "    }\n",
       "</style>\n",
       "<table border=\"1\" class=\"dataframe\">\n",
       "  <thead>\n",
       "    <tr style=\"text-align: right;\">\n",
       "      <th></th>\n",
       "      <th>periodo</th>\n",
       "      <th>id_clube</th>\n",
       "      <th>socio</th>\n",
       "      <th>canal</th>\n",
       "      <th>ticket</th>\n",
       "      <th>departamento</th>\n",
       "      <th>item_id</th>\n",
       "      <th>item_descricao</th>\n",
       "      <th>item_unidade</th>\n",
       "      <th>receita_bruta</th>\n",
       "      <th>margem</th>\n",
       "    </tr>\n",
       "  </thead>\n",
       "  <tbody>\n",
       "  </tbody>\n",
       "</table>\n",
       "</div>"
      ],
      "text/plain": [
       "Empty DataFrame\n",
       "Columns: [periodo, id_clube, socio, canal, ticket, departamento, item_id, item_descricao, item_unidade, receita_bruta, margem]\n",
       "Index: []"
      ]
     },
     "execution_count": 78,
     "metadata": {},
     "output_type": "execute_result"
    }
   ],
   "source": [
    "# verificando registros vazios\n",
    "registros_vazios = df[df.isna().any(axis=1)]\n",
    "registros_vazios"
   ]
  },
  {
   "cell_type": "markdown",
   "metadata": {},
   "source": [
    "## Itens mais populares\n",
    "\n",
    "Quais itens possuem mais ticket"
   ]
  },
  {
   "cell_type": "code",
   "execution_count": 174,
   "metadata": {},
   "outputs": [
    {
     "data": {
      "text/html": [
       "<div>\n",
       "<style scoped>\n",
       "    .dataframe tbody tr th:only-of-type {\n",
       "        vertical-align: middle;\n",
       "    }\n",
       "\n",
       "    .dataframe tbody tr th {\n",
       "        vertical-align: top;\n",
       "    }\n",
       "\n",
       "    .dataframe thead th {\n",
       "        text-align: right;\n",
       "    }\n",
       "</style>\n",
       "<table border=\"1\" class=\"dataframe\">\n",
       "  <thead>\n",
       "    <tr style=\"text-align: right;\">\n",
       "      <th></th>\n",
       "      <th>departamento</th>\n",
       "      <th>periodo</th>\n",
       "      <th>item_descricao</th>\n",
       "      <th>ticket</th>\n",
       "    </tr>\n",
       "  </thead>\n",
       "  <tbody>\n",
       "    <tr>\n",
       "      <th>0</th>\n",
       "      <td>BAZAR E TÊXTIL</td>\n",
       "      <td>2022-01-10</td>\n",
       "      <td>1 TRICICLO INFANTIL</td>\n",
       "      <td>2</td>\n",
       "    </tr>\n",
       "    <tr>\n",
       "      <th>1</th>\n",
       "      <td>BAZAR E TÊXTIL</td>\n",
       "      <td>2022-01-10</td>\n",
       "      <td>100 LUZES DE LED ESTRELA 127V</td>\n",
       "      <td>1</td>\n",
       "    </tr>\n",
       "    <tr>\n",
       "      <th>2</th>\n",
       "      <td>BAZAR E TÊXTIL</td>\n",
       "      <td>2022-01-10</td>\n",
       "      <td>2 CUECAS BOXER LK ALGODAO G</td>\n",
       "      <td>1</td>\n",
       "    </tr>\n",
       "    <tr>\n",
       "      <th>3</th>\n",
       "      <td>BAZAR E TÊXTIL</td>\n",
       "      <td>2022-01-10</td>\n",
       "      <td>2 JGS LENCOIS 300F CASAL</td>\n",
       "      <td>15</td>\n",
       "    </tr>\n",
       "    <tr>\n",
       "      <th>4</th>\n",
       "      <td>BAZAR E TÊXTIL</td>\n",
       "      <td>2022-01-10</td>\n",
       "      <td>2 JGS LENCOIS 300F KING</td>\n",
       "      <td>14</td>\n",
       "    </tr>\n",
       "    <tr>\n",
       "      <th>...</th>\n",
       "      <td>...</td>\n",
       "      <td>...</td>\n",
       "      <td>...</td>\n",
       "      <td>...</td>\n",
       "    </tr>\n",
       "    <tr>\n",
       "      <th>27042</th>\n",
       "      <td>PERECÍVEIS</td>\n",
       "      <td>2022-01-12</td>\n",
       "      <td>YOS GREGO PIA MORANGO 100 G</td>\n",
       "      <td>1</td>\n",
       "    </tr>\n",
       "    <tr>\n",
       "      <th>27043</th>\n",
       "      <td>PERECÍVEIS</td>\n",
       "      <td>2022-01-12</td>\n",
       "      <td>ZAMIOCULCA P20 PT 20</td>\n",
       "      <td>1</td>\n",
       "    </tr>\n",
       "    <tr>\n",
       "      <th>27044</th>\n",
       "      <td>SERVICO DIGITAL</td>\n",
       "      <td>2022-01-10</td>\n",
       "      <td>FRETE</td>\n",
       "      <td>624</td>\n",
       "    </tr>\n",
       "    <tr>\n",
       "      <th>27045</th>\n",
       "      <td>SERVICO DIGITAL</td>\n",
       "      <td>2022-01-11</td>\n",
       "      <td>FRETE</td>\n",
       "      <td>535</td>\n",
       "    </tr>\n",
       "    <tr>\n",
       "      <th>27046</th>\n",
       "      <td>SERVICO DIGITAL</td>\n",
       "      <td>2022-01-12</td>\n",
       "      <td>FRETE</td>\n",
       "      <td>513</td>\n",
       "    </tr>\n",
       "  </tbody>\n",
       "</table>\n",
       "<p>27047 rows × 4 columns</p>\n",
       "</div>"
      ],
      "text/plain": [
       "          departamento     periodo                 item_descricao  ticket\n",
       "0       BAZAR E TÊXTIL  2022-01-10            1 TRICICLO INFANTIL       2\n",
       "1       BAZAR E TÊXTIL  2022-01-10  100 LUZES DE LED ESTRELA 127V       1\n",
       "2       BAZAR E TÊXTIL  2022-01-10    2 CUECAS BOXER LK ALGODAO G       1\n",
       "3       BAZAR E TÊXTIL  2022-01-10       2 JGS LENCOIS 300F CASAL      15\n",
       "4       BAZAR E TÊXTIL  2022-01-10        2 JGS LENCOIS 300F KING      14\n",
       "...                ...         ...                            ...     ...\n",
       "27042       PERECÍVEIS  2022-01-12    YOS GREGO PIA MORANGO 100 G       1\n",
       "27043       PERECÍVEIS  2022-01-12           ZAMIOCULCA P20 PT 20       1\n",
       "27044  SERVICO DIGITAL  2022-01-10                          FRETE     624\n",
       "27045  SERVICO DIGITAL  2022-01-11                          FRETE     535\n",
       "27046  SERVICO DIGITAL  2022-01-12                          FRETE     513\n",
       "\n",
       "[27047 rows x 4 columns]"
      ]
     },
     "execution_count": 174,
     "metadata": {},
     "output_type": "execute_result"
    }
   ],
   "source": [
    "top_10_produtos_tickets = df.groupby(['departamento', 'periodo', 'item_descricao'])['ticket'].nunique().reset_index()\n",
    "top_10_produtos_tickets.to_excel('outputs/top_10_produtos_populares.xlsx', index=False)\n",
    "top_10_produtos_tickets"
   ]
  },
  {
   "cell_type": "markdown",
   "metadata": {},
   "source": [
    "## Itens que geraram mais receita"
   ]
  },
  {
   "cell_type": "code",
   "execution_count": 163,
   "metadata": {},
   "outputs": [
    {
     "data": {
      "text/plain": [
       "departamento     periodo     item_descricao               \n",
       "BAZAR E TÊXTIL   2022-01-10  1 TRICICLO INFANTIL              2\n",
       "                             100 LUZES DE LED ESTRELA 127V    1\n",
       "                             2 CUECAS BOXER LK ALGODAO G      1\n",
       "                             2 JGS LENCOIS 300F CASAL         2\n",
       "                             2 JGS LENCOIS 300F KING          1\n",
       "                                                             ..\n",
       "PERECÍVEIS       2022-01-12  YOS GREGO PIA MORANGO 100 G      1\n",
       "                             ZAMIOCULCA P20 PT 20             1\n",
       "SERVICO DIGITAL  2022-01-10  FRETE                            4\n",
       "                 2022-01-11  FRETE                            4\n",
       "                 2022-01-12  FRETE                            3\n",
       "Name: receita_bruta, Length: 27023, dtype: int64"
      ]
     },
     "execution_count": 163,
     "metadata": {},
     "output_type": "execute_result"
    }
   ],
   "source": [
    "\n",
    "top_10_produtos_receita = df.groupby(['departamento', 'periodo', 'item_descricao'])['receita_bruta'].nunique().reset_index()\n",
    "top_10_produtos_receita"
   ]
  },
  {
   "cell_type": "markdown",
   "metadata": {},
   "source": [
    "## Itens que geraram mais margem"
   ]
  },
  {
   "cell_type": "code",
   "execution_count": 164,
   "metadata": {},
   "outputs": [
    {
     "data": {
      "text/plain": [
       "departamento     periodo     item_descricao               \n",
       "BAZAR E TÊXTIL   2022-01-10  1 TRICICLO INFANTIL               2\n",
       "                             100 LUZES DE LED ESTRELA 127V     1\n",
       "                             2 CUECAS BOXER LK ALGODAO G       1\n",
       "                             2 JGS LENCOIS 300F CASAL         12\n",
       "                             2 JGS LENCOIS 300F KING           9\n",
       "                                                              ..\n",
       "PERECÍVEIS       2022-01-12  YOS GREGO PIA MORANGO 100 G       1\n",
       "                             ZAMIOCULCA P20 PT 20              1\n",
       "SERVICO DIGITAL  2022-01-10  FRETE                             7\n",
       "                 2022-01-11  FRETE                             7\n",
       "                 2022-01-12  FRETE                             7\n",
       "Name: margem, Length: 27023, dtype: int64"
      ]
     },
     "execution_count": 164,
     "metadata": {},
     "output_type": "execute_result"
    }
   ],
   "source": [
    "\n",
    "top_10_produtos_margem = df.groupby(['departamento', 'periodo', 'item_descricao'])['margem'].nunique().reset_index()\n",
    "top_10_produtos_margem"
   ]
  },
  {
   "cell_type": "markdown",
   "metadata": {},
   "source": [
    "## Ticket médio\n",
    "\n",
    "Em cada compra/ticket, quando produtos em média são comprados"
   ]
  },
  {
   "cell_type": "code",
   "execution_count": 82,
   "metadata": {},
   "outputs": [
    {
     "data": {
      "text/plain": [
       "11.65586775982382"
      ]
     },
     "execution_count": 82,
     "metadata": {},
     "output_type": "execute_result"
    }
   ],
   "source": [
    "df['ticket'].count() / df['ticket'].nunique()"
   ]
  },
  {
   "cell_type": "markdown",
   "metadata": {},
   "source": [
    "## Combos promocionais\n",
    "\n",
    "Dentre os itens populares encontrados acima, quais são os produtos mais relacionados"
   ]
  },
  {
   "cell_type": "code",
   "execution_count": 175,
   "metadata": {},
   "outputs": [
    {
     "name": "stdout",
     "output_type": "stream",
     "text": [
      "         departamento     periodo           produto_referencia  \\\n",
      "0      BAZAR E TÊXTIL  2022-01-10  CONJ POTES EM VIDRO 6 PECAS   \n",
      "1      BAZAR E TÊXTIL  2022-01-10  CONJ POTES EM VIDRO 6 PECAS   \n",
      "2      BAZAR E TÊXTIL  2022-01-10  CONJ POTES EM VIDRO 6 PECAS   \n",
      "3      BAZAR E TÊXTIL  2022-01-10  CONJ POTES EM VIDRO 6 PECAS   \n",
      "4      BAZAR E TÊXTIL  2022-01-10  CONJ POTES EM VIDRO 6 PECAS   \n",
      "...               ...         ...                          ...   \n",
      "3190  SERVICO DIGITAL  2022-01-12                        FRETE   \n",
      "3191  SERVICO DIGITAL  2022-01-12                        FRETE   \n",
      "3192  SERVICO DIGITAL  2022-01-12                        FRETE   \n",
      "3193  SERVICO DIGITAL  2022-01-12                        FRETE   \n",
      "3194  SERVICO DIGITAL  2022-01-12                        FRETE   \n",
      "\n",
      "                      produto_relacionado  contagem  \n",
      "0               SACOLA PLASTICA MM BRANCA        46  \n",
      "1         PH PERSONAL VIP FD 40 ROLOSX30M        35  \n",
      "2     PAPEL TOALHA KITCHEN JUMB FD C360FL        32  \n",
      "3      MM LAVA ROUPAS 5LTS ULTIMATE CLEAN        29  \n",
      "4                 PH NEVE FT 20M L32P28UN        23  \n",
      "...                                   ...       ...  \n",
      "3190   MANTEIGA COM SAL MEMBERS MARK 500G        22  \n",
      "3191      AGUA SANITARIA 5LT MEMBERS MARK        21  \n",
      "3192   MM LAVA ROUPAS 5LTS ULTIMATE CLEAN        21  \n",
      "3193   LIMPOL LIQ 6X500ML DETERG LIQ COCO        20  \n",
      "3194    MON BIJOU PUREZA 5LT AMAC DILUIDO        19  \n",
      "\n",
      "[3195 rows x 5 columns]\n"
     ]
    }
   ],
   "source": [
    "# Ler os dados do arquivo CSV para um DataFrame\n",
    "df = pd.read_csv('CASE_PRATICO_SAMS_CLUB.csv')\n",
    "\n",
    "# Calcular os top 10 produtos por departamento e período\n",
    "top_10_produtos_por_departamento = df.groupby(['departamento', 'periodo', 'item_descricao'])['ticket'].nunique().groupby(['departamento', 'periodo']).nlargest(10)\n",
    "\n",
    "# Lista para armazenar os resultados\n",
    "resultados = []\n",
    "\n",
    "# Iterar sobre cada grupo de departamento e período\n",
    "for (departamento, periodo), top_10_produtos in top_10_produtos_por_departamento.groupby(level=[0, 1]):\n",
    "    # Iterar sobre cada produto dos top 10\n",
    "    for produto in top_10_produtos.index.get_level_values('item_descricao'):\n",
    "        # Encontrar os 15 produtos mais frequentemente comprados junto com o produto de referência\n",
    "        tickets_produto_referencia = df[(df['departamento'] == departamento) & (df['periodo'] == periodo) & (df['item_descricao'] == produto)]['ticket'].unique()\n",
    "        dados_combo = df[df['ticket'].isin(tickets_produto_referencia)]\n",
    "        relacionados = dados_combo[dados_combo['item_descricao'] != produto].groupby('item_descricao')['ticket'].nunique().nlargest(15)\n",
    "        # Adicionar os resultados à lista\n",
    "        for produto_relacionado, contagem in relacionados.items():\n",
    "            resultados.append({'departamento': departamento, 'periodo': periodo, 'produto_referencia': produto, 'produto_relacionado': produto_relacionado, 'contagem': contagem})\n",
    "\n",
    "# Converter a lista de resultados em um DataFrame\n",
    "resultados_df = pd.DataFrame(resultados)\n",
    "\n",
    "# Salvar os resultados em um arquivo CSV\n",
    "resultados_df.to_excel('outputs/resultados_combos.xlsx', index=False)\n",
    "\n",
    "# Exibir os resultados\n",
    "print(resultados_df)"
   ]
  }
 ],
 "metadata": {
  "kernelspec": {
   "display_name": "Python 3 (ipykernel)",
   "language": "python",
   "name": "python3"
  },
  "language_info": {
   "codemirror_mode": {
    "name": "ipython",
    "version": 3
   },
   "file_extension": ".py",
   "mimetype": "text/x-python",
   "name": "python",
   "nbconvert_exporter": "python",
   "pygments_lexer": "ipython3",
   "version": "3.11.5"
  }
 },
 "nbformat": 4,
 "nbformat_minor": 2
}
